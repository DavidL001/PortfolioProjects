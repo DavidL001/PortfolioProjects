{
 "cells": [
  {
   "cell_type": "code",
   "execution_count": 142,
   "id": "00b8ec1d-e89f-491a-b585-6697e0007210",
   "metadata": {},
   "outputs": [],
   "source": [
    "#Goal for this project is to pull price data from Amazon for a 4090 Nvidia Graphics Card and automate the data into a csv \n",
    "from bs4 import BeautifulSoup\n",
    "import requests\n",
    "import smtplib\n",
    "import time\n",
    "import datetime\n",
    "import csv\n",
    "import pandas as pd"
   ]
  },
  {
   "cell_type": "code",
   "execution_count": 160,
   "id": "cc23ad74-55ae-4152-9c32-850a3995e54b",
   "metadata": {},
   "outputs": [],
   "source": [
    "# Pulling the data from the link of the amazon item (product title and price)\n",
    "URL = \"https://www.amazon.com/PNY-GeForce-Gaming-Overclocked-Graphics/dp/B0BHCJKGKS/ref=sr_1_3?crid=AUN55ZQPFBFW&dib=eyJ2IjoiMSJ9.FvtyHB-Dk_p8c8rTn9aU32XCzbExOxiXVNdqJg8Sl44Oj9XOrXwMkfwjRFROcHT9Ufo0ymfH0phh0H6zMMTDZNUjCa5zZ-IglrdnLIaCXkIfaPy3g8ZZJnsf-uvQUPWbnugdScE9lfJPdqw-FFaSAy_whKvq3tTijNIZHETCjSV0-Gi4wYdyV0q-u51w0mUX7l8k-9blTcxHND0HMnlVJ2pHhqgpMkRAhZ2LPYJgOPE.RGy1hBMiu3Vx7u8t_ElPzkl5hL_u-XNz0ADeDPZ9wFU&dib_tag=se&keywords=nvidia%2B4090&qid=1716154249&sprefix=nvidia%2B4090%2Caps%2C115&sr=8-3&th=1\"\n",
    "\n",
    "page = requests.get(URL)\n",
    "\n",
    "page.raise_for_status()\n",
    "\n",
    "data = page.text\n",
    "\n",
    "#print(data)\n",
    "\n",
    "soup_1 = BeautifulSoup(data, 'html.parser')\n",
    "#print(soup_1)\n",
    "\n",
    "soup_2 = BeautifulSoup(soup_1.prettify(), 'html.parser')\n",
    "#print(soup_2)\n",
    "\n",
    "#Let's pull the exact data I want, the title and price of the product\n",
    "title = soup_2.find(id=\"productTitle\").get_text().strip().replace(\"™\", \"\")\n",
    "#print(title)\n",
    "\n",
    "price_str_int = soup_2.find('span', attrs={'class':'a-price-whole'}).get_text(strip=True)\n",
    "#print(price_str_int)\n",
    "\n",
    "price_str_dec = soup_2.find('span', attrs={'class':'a-price-fraction'}).get_text(strip=True)\n",
    "#print(price_str_dec)\n",
    "\n",
    "price_comb = price_str_int + price_str_dec\n",
    "#print(price_comb)\n",
    "\n",
    "#Price is being pulled in a currency format, to make it easier to use in the future let's convert it into a float\n",
    "def currency_to_float(money_str):\n",
    "    try:\n",
    "        strip_str = money_str.replace('$', '').replace(',', '')\n",
    "        curr_dec = float(strip_str)\n",
    "        return curr_dec\n",
    "    except ValueError:\n",
    "        print(\"Invalid price format\")\n",
    "        return 0.0 \n",
    "\n",
    "date = datetime.date.today()\n",
    "#print(date)\n",
    "\n",
    "price_float = currency_to_float(price_comb)\n",
    "#print(title)\n",
    "#print(price_float)"
   ]
  },
  {
   "cell_type": "code",
   "execution_count": 161,
   "id": "995f966c-e825-4304-a267-a7e968481058",
   "metadata": {},
   "outputs": [],
   "source": [
    "#Now let's setup a csv that will automatically be updated with product price daily\n",
    "header = ['Product_Name', 'Price', 'Date']\n",
    "data = [title, price_float, date]\n",
    "\n",
    "#Initial data insert\n",
    "with open('AmazonWebScrappingPrices.csv', 'w', newline='', encoding='UTF-8') as f:\n",
    "    writer = csv.writer(f)\n",
    "    writer.writerow(header)\n",
    "    writer.writerow(data)"
   ]
  },
  {
   "cell_type": "code",
   "execution_count": 164,
   "id": "e385459b-9eb6-4835-97c3-5307b8e471c1",
   "metadata": {},
   "outputs": [
    {
     "name": "stdout",
     "output_type": "stream",
     "text": [
      "                                        Product_Name   Price        Date\n",
      "0  PNY GeForce RTX 4090 24GB XLR8 Gaming VERTO EP...  1759.0  2024-05-19\n",
      "1  PNY GeForce RTX 4090 24GB XLR8 Gaming VERTO EP...  1759.0  2024-05-19\n"
     ]
    }
   ],
   "source": [
    "df = pd.read_csv(r\"C:\\Users\\dlugo\\Desktop\\Job Materials\\Portfolio Projects\\Amazon Web Scrapping\\AmazonWebScrappingPrices.csv\")\n",
    "print(df)"
   ]
  },
  {
   "cell_type": "code",
   "execution_count": 168,
   "id": "d02937ef-0fa4-456d-a687-2587c07919a3",
   "metadata": {},
   "outputs": [],
   "source": [
    "#Now we are going to append data to the CSV created so we can track the item's price daily\n",
    "\n",
    "with open(r\"C:\\Users\\dlugo\\Desktop\\Job Materials\\Portfolio Projects\\Amazon Web Scrapping\\AmazonWebScrappingPrices.csv\", 'a+', newline='', encoding='UTF-8') as f:\n",
    "    writer = csv.writer(f)\n",
    "    writer.writerow(data)"
   ]
  },
  {
   "cell_type": "code",
   "execution_count": 165,
   "id": "074a1b08-2368-44f1-8ce9-ee346592c575",
   "metadata": {},
   "outputs": [],
   "source": [
    "#Now let's automate this to udpate every day by itself\n",
    "\n",
    "def check_price():\n",
    "    URL = \"https://www.amazon.com/PNY-GeForce-Gaming-Overclocked-Graphics/dp/B0BHCJKGKS/ref=sr_1_3?crid=AUN55ZQPFBFW&dib=eyJ2IjoiMSJ9.FvtyHB-Dk_p8c8rTn9aU32XCzbExOxiXVNdqJg8Sl44Oj9XOrXwMkfwjRFROcHT9Ufo0ymfH0phh0H6zMMTDZNUjCa5zZ-IglrdnLIaCXkIfaPy3g8ZZJnsf-uvQUPWbnugdScE9lfJPdqw-FFaSAy_whKvq3tTijNIZHETCjSV0-Gi4wYdyV0q-u51w0mUX7l8k-9blTcxHND0HMnlVJ2pHhqgpMkRAhZ2LPYJgOPE.RGy1hBMiu3Vx7u8t_ElPzkl5hL_u-XNz0ADeDPZ9wFU&dib_tag=se&keywords=nvidia%2B4090&qid=1716154249&sprefix=nvidia%2B4090%2Caps%2C115&sr=8-3&th=1\"\n",
    "    page = requests.get(URL)\n",
    "    page.raise_for_status()\n",
    "    data = page.text\n",
    "    soup_1 = BeautifulSoup(data, 'html.parser')\n",
    "    soup_2 = BeautifulSoup(soup_1.prettify(), 'html.parser')\n",
    "    title = soup_2.find(id=\"productTitle\").get_text().strip().replace(\"™\", \"\")\n",
    "    price_str_int = soup_2.find('span', attrs={'class':'a-price-whole'}).get_text(strip=True)\n",
    "    price_str_dec = soup_2.find('span', attrs={'class':'a-price-fraction'}).get_text(strip=True)\n",
    "    price_comb = price_str_int + price_str_dec\n",
    "    def currency_to_float(money_str):\n",
    "        try:\n",
    "            strip_str = money_str.replace('$', '').replace(',', '')\n",
    "            curr_dec = float(strip_str)\n",
    "            return curr_dec\n",
    "        except ValueError:\n",
    "            print(\"Invalid price format\")\n",
    "            return 0.0 \n",
    "    date = datetime.date.today()\n",
    "    price_float = currency_to_float(price_comb)\n",
    "    header = ['Product_Name', 'Price', 'Date']\n",
    "    data = [title, price_float, date]\n",
    "    with open(r\"C:\\Users\\dlugo\\Desktop\\Job Materials\\Portfolio Projects\\Amazon Web Scrapping\\AmazonWebScrappingPrices.csv\", 'a+', newline='', encoding='UTF-8') as f:\n",
    "        writer = csv.writer(f)\n",
    "        writer.writerow(data)"
   ]
  },
  {
   "cell_type": "code",
   "execution_count": null,
   "id": "055a1dc0-b1e5-42fc-89c5-49ddf686080c",
   "metadata": {},
   "outputs": [],
   "source": [
    "while(True):\n",
    "    check_price()\n",
    "    time.sleep(86400)"
   ]
  },
  {
   "cell_type": "code",
   "execution_count": null,
   "id": "0b8c317d-8471-4aed-96ed-49e75e6afcd0",
   "metadata": {},
   "outputs": [],
   "source": []
  },
  {
   "cell_type": "code",
   "execution_count": null,
   "id": "e7370581-e1d9-4397-bdef-b575e0d03916",
   "metadata": {},
   "outputs": [],
   "source": []
  }
 ],
 "metadata": {
  "kernelspec": {
   "display_name": "Python 3 (ipykernel)",
   "language": "python",
   "name": "python3"
  },
  "language_info": {
   "codemirror_mode": {
    "name": "ipython",
    "version": 3
   },
   "file_extension": ".py",
   "mimetype": "text/x-python",
   "name": "python",
   "nbconvert_exporter": "python",
   "pygments_lexer": "ipython3",
   "version": "3.11.7"
  }
 },
 "nbformat": 4,
 "nbformat_minor": 5
}
