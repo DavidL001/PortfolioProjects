{
 "cells": [
  {
   "cell_type": "markdown",
   "id": "c0dc0ced",
   "metadata": {},
   "source": [
    "# BMI Calculator\n",
    "\n",
    "https://www.cancer.org/cancer/risk-prevention/diet-physical-activity/body-weight-and-cancer-risk/body-mass-index-bmi-calculator.html"
   ]
  },
  {
   "cell_type": "code",
   "execution_count": 1,
   "id": "56acb5f3",
   "metadata": {},
   "outputs": [],
   "source": [
    "#BMI = (your weight in pounds x 703) ÷ (your height in inches x your height in inches)"
   ]
  },
  {
   "cell_type": "code",
   "execution_count": 19,
   "id": "e709db42",
   "metadata": {},
   "outputs": [
    {
     "name": "stdout",
     "output_type": "stream",
     "text": [
      "Enter your name: David\n",
      "Enter your weight in pounds: 189\n",
      "Enter your height in inches: 70.5\n",
      "David, your BMI is: 26.7\n",
      "You are Overweight\n"
     ]
    }
   ],
   "source": [
    "name = input(\"Enter your name: \")\n",
    "\n",
    "weight = float(input(\"Enter your weight in pounds: \"))\n",
    "\n",
    "height = float(input(\"Enter your height in inches: \"))\n",
    "\n",
    "BMI = (weight * 703) / (height * height)\n",
    "\n",
    "print(name + ', your BMI is: ' + str(round(BMI, 1)))\n",
    "\n",
    "if BMI > 0:\n",
    "    if BMI < 18.5:\n",
    "        print('You are Underweight')\n",
    "    elif BMI <= 24.9:\n",
    "        print('You are Normal Weight')\n",
    "    elif BMI <= 29.9:\n",
    "        print('You are Overweight')\n",
    "    elif BMI > 30:\n",
    "        print('You are Obese')\n",
    "else:\n",
    "    \"Please enter valid measurements\"\n"
   ]
  },
  {
   "cell_type": "code",
   "execution_count": null,
   "id": "1a191320",
   "metadata": {},
   "outputs": [],
   "source": []
  },
  {
   "cell_type": "code",
   "execution_count": null,
   "id": "2e458909",
   "metadata": {},
   "outputs": [],
   "source": []
  }
 ],
 "metadata": {
  "kernelspec": {
   "display_name": "Python 3 (ipykernel)",
   "language": "python",
   "name": "python3"
  },
  "language_info": {
   "codemirror_mode": {
    "name": "ipython",
    "version": 3
   },
   "file_extension": ".py",
   "mimetype": "text/x-python",
   "name": "python",
   "nbconvert_exporter": "python",
   "pygments_lexer": "ipython3",
   "version": "3.11.7"
  }
 },
 "nbformat": 4,
 "nbformat_minor": 5
}
