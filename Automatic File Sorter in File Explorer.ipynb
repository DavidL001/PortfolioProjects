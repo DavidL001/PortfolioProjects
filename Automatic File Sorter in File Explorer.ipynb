{
 "cells": [
  {
   "cell_type": "code",
   "execution_count": 1,
   "id": "39cdc287",
   "metadata": {},
   "outputs": [],
   "source": [
    "#Goal is to sort files into folders based on file type"
   ]
  },
  {
   "cell_type": "code",
   "execution_count": 15,
   "id": "68dcbd35",
   "metadata": {},
   "outputs": [],
   "source": [
    "import os, shutil"
   ]
  },
  {
   "cell_type": "code",
   "execution_count": 37,
   "id": "8647c0b3",
   "metadata": {},
   "outputs": [
    {
     "name": "stdout",
     "output_type": "stream",
     "text": [
      "File path: \n",
      "C:/Users/dlugo/Desktop/Test/\n"
     ]
    }
   ],
   "source": [
    "print('File path: ')\n",
    "file_path = r'' + input()\n",
    "\n",
    "file_name = os.listdir(file_path)\n",
    "\n",
    "folder_names = ['Excel Files', 'Pictures', 'Text Documents']\n",
    "\n",
    "for loop in range(0,3):\n",
    "    if not os.path.exists(file_path + folder_names[loop]):\n",
    "        os.makedirs((file_path + folder_names[loop]))\n",
    "        \n",
    "for file in file_name:\n",
    "    if \".xlsx\" in file and not os.path.exists(file_path + 'Excel Files/' + file):\n",
    "        shutil.move(file_path + file, file_path + 'Excel Files/' + file)\n",
    "    elif \".jpg\" in file and not os.path.exists(file_path + 'Pictures/' + file):\n",
    "        shutil.move(file_path + file, file_path + 'Pictures/' + file)\n",
    "    elif \".docx\" in file and not os.path.exists(file_path + 'Text Documents/' + file):\n",
    "        shutil.move(file_path + file, file_path + 'Text Documents/' + file)\n",
    "    else:\n",
    "        print(\"Some files were not moved\")"
   ]
  },
  {
   "cell_type": "code",
   "execution_count": null,
   "id": "1c921be2",
   "metadata": {},
   "outputs": [],
   "source": []
  }
 ],
 "metadata": {
  "kernelspec": {
   "display_name": "Python 3 (ipykernel)",
   "language": "python",
   "name": "python3"
  },
  "language_info": {
   "codemirror_mode": {
    "name": "ipython",
    "version": 3
   },
   "file_extension": ".py",
   "mimetype": "text/x-python",
   "name": "python",
   "nbconvert_exporter": "python",
   "pygments_lexer": "ipython3",
   "version": "3.11.7"
  }
 },
 "nbformat": 4,
 "nbformat_minor": 5
}
